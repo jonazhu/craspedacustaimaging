{
 "cells": [
  {
   "cell_type": "code",
   "execution_count": 1,
   "id": "37474d7a",
   "metadata": {},
   "outputs": [],
   "source": [
    "import cv2\n",
    "from datetime import datetime\n",
    "import time\n",
    "import os\n",
    "import matplotlib.pyplot as plt"
   ]
  },
  {
   "cell_type": "code",
   "execution_count": 2,
   "id": "d1c23ca6",
   "metadata": {},
   "outputs": [],
   "source": [
    "def GetFormatTime():\n",
    "    current_datetime = datetime.now()\n",
    "    format_datetime = current_datetime.strftime(\"%Y-%m-%d_%H-%M-%S\")\n",
    "    return format_datetime"
   ]
  },
  {
   "cell_type": "code",
   "execution_count": 11,
   "id": "509bd3d9",
   "metadata": {},
   "outputs": [],
   "source": [
    "webcam = cv2.VideoCapture(0)"
   ]
  },
  {
   "cell_type": "code",
   "execution_count": 15,
   "id": "769d1396",
   "metadata": {},
   "outputs": [],
   "source": [
    "#single test\n",
    "webcam = cv2.VideoCapture(0)\n",
    "time.sleep(1)\n",
    "if not webcam.isOpened():\n",
    "    print(\"error in opening camera\")\n",
    "else: \n",
    "    ret, frame = webcam.read()\n",
    "\n",
    "    if ret:\n",
    "        #img = cv2.cvtColor(frame, cv2.COLOR_BGR2RGB)\n",
    "        filename = \"/Users/jonathanzhu/test_capture/test_\" + GetFormatTime() + \".png\"\n",
    "        cv2.imwrite(filename, frame)\n",
    "        #plt.imshow(frame) #take out to remove image showing\n",
    "    else:\n",
    "        print(\"Error in capturing image at \" + datetime.now())\n",
    "\n",
    "    webcam.release()"
   ]
  },
  {
   "cell_type": "code",
   "execution_count": 17,
   "id": "bbd4c8e4",
   "metadata": {},
   "outputs": [
    {
     "ename": "KeyboardInterrupt",
     "evalue": "",
     "output_type": "error",
     "traceback": [
      "\u001b[0;31m---------------------------------------------------------------------------\u001b[0m",
      "\u001b[0;31mKeyboardInterrupt\u001b[0m                         Traceback (most recent call last)",
      "Cell \u001b[0;32mIn[17], line 17\u001b[0m\n\u001b[1;32m     13\u001b[0m         \u001b[38;5;28;01melse\u001b[39;00m:\n\u001b[1;32m     14\u001b[0m             \u001b[38;5;28mprint\u001b[39m(\u001b[38;5;124m\"\u001b[39m\u001b[38;5;124mError in capturing image at \u001b[39m\u001b[38;5;124m\"\u001b[39m \u001b[38;5;241m+\u001b[39m datetime\u001b[38;5;241m.\u001b[39mnow())\n\u001b[0;32m---> 17\u001b[0m         \u001b[43mtime\u001b[49m\u001b[38;5;241;43m.\u001b[39;49m\u001b[43msleep\u001b[49m\u001b[43m(\u001b[49m\u001b[38;5;241;43m30\u001b[39;49m\u001b[43m)\u001b[49m\n\u001b[1;32m     19\u001b[0m webcam\u001b[38;5;241m.\u001b[39mrelease()\n",
      "\u001b[0;31mKeyboardInterrupt\u001b[0m: "
     ]
    }
   ],
   "source": [
    "#continuous loop\n",
    "webcam = cv2.VideoCapture(0)\n",
    "\n",
    "if not webcam.isOpened():\n",
    "    print(\"error in opening camera\")\n",
    "else: \n",
    "    while True:\n",
    "        ret, frame = webcam.read()\n",
    "\n",
    "        if ret:\n",
    "            filename = \"/Users/jonathanzhu/test_capture/test_\" + GetFormatTime() + \".png\"\n",
    "            cv2.imwrite(filename, frame)\n",
    "        else:\n",
    "            print(\"Error in capturing image at \" + datetime.now())\n",
    "\n",
    "        \n",
    "        time.sleep(30)\n",
    "        \n",
    "webcam.release()"
   ]
  },
  {
   "cell_type": "code",
   "execution_count": null,
   "id": "610e1ee2",
   "metadata": {},
   "outputs": [],
   "source": [
    "webcam.release() #run this to shut down webcam when done with above\n",
    "cv2.destroyAllWindows()"
   ]
  }
 ],
 "metadata": {
  "kernelspec": {
   "display_name": "opencv_env",
   "language": "python",
   "name": "python3"
  },
  "language_info": {
   "codemirror_mode": {
    "name": "ipython",
    "version": 3
   },
   "file_extension": ".py",
   "mimetype": "text/x-python",
   "name": "python",
   "nbconvert_exporter": "python",
   "pygments_lexer": "ipython3",
   "version": "3.9.23"
  }
 },
 "nbformat": 4,
 "nbformat_minor": 5
}
