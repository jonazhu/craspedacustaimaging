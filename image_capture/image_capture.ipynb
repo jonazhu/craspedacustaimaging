{
 "cells": [
  {
   "cell_type": "code",
   "execution_count": null,
   "id": "37474d7a",
   "metadata": {},
   "outputs": [],
   "source": [
    "import cv2\n",
    "from datetime import datetime\n",
    "import time\n",
    "import os\n",
    "import matplotlib.pyplot as plt"
   ]
  },
  {
   "cell_type": "code",
   "execution_count": null,
   "id": "d1c23ca6",
   "metadata": {},
   "outputs": [],
   "source": [
    "def GetFormatTime():\n",
    "    current_datetime = datetime.now()\n",
    "    format_datetime = current_datetime.strftime(\"%Y-%m-%d_%H-%M-%S\")\n",
    "    return format_datetime"
   ]
  },
  {
   "cell_type": "code",
   "execution_count": null,
   "id": "509bd3d9",
   "metadata": {},
   "outputs": [],
   "source": [
    "webcam = cv2.VideoCapture(0, apiPreference=cv2.CAP_AVFOUNDATION)"
   ]
  },
  {
   "cell_type": "code",
   "execution_count": null,
   "id": "769d1396",
   "metadata": {},
   "outputs": [],
   "source": [
    "#single test\n",
    "#webcam = cv2.VideoCapture(0, apiPreference=cv2.CAP_AVFOUNDATION) #for using scope - run above chunk & wait about half a minut\n",
    "#time.sleep(1) #normally used with laptop webcam - can open a lot quicker\n",
    "if not webcam.isOpened():\n",
    "    print(\"error in opening camera\")\n",
    "else: \n",
    "    ret, frame = webcam.read()\n",
    "\n",
    "    if ret:\n",
    "        img = cv2.cvtColor(frame, cv2.COLOR_BGR2RGB)\n",
    "        filename = \"/Users/jonathanzhu/test_capture/test_\" + GetFormatTime() + \".png\" #formatted specifically on capturing computer\n",
    "        cv2.imwrite(filename, frame)\n",
    "        plt.imshow(frame) #take out to remove image showing\n",
    "    else:\n",
    "        print(\"Error in capturing image at \" + datetime.now())\n",
    "\n",
    "    #webcam.release() #again, normally used with laptop webcam, but do not run this on scope webcam"
   ]
  },
  {
   "cell_type": "code",
   "execution_count": null,
   "id": "bbd4c8e4",
   "metadata": {},
   "outputs": [],
   "source": [
    "#continuous loop\n",
    "if not webcam.isOpened():\n",
    "    print(\"error in opening camera\")\n",
    "else: \n",
    "    while True:\n",
    "        ret, frame = webcam.read()\n",
    "\n",
    "        if ret:\n",
    "            filename = \"/Users/jonathanzhu/test_capture/test_\" + GetFormatTime() + \".png\" #formatted specifically on capture computer\n",
    "            cv2.imwrite(filename, frame)\n",
    "        else:\n",
    "            print(\"Error in capturing image at \" + datetime.now())\n",
    "\n",
    "        \n",
    "        time.sleep(900) #wait 90 minutes\n",
    "        \n",
    "webcam.release()"
   ]
  },
  {
   "cell_type": "code",
   "execution_count": null,
   "id": "610e1ee2",
   "metadata": {},
   "outputs": [],
   "source": [
    "webcam.release() #run this to shut down webcam when done with above\n",
    "cv2.destroyAllWindows()"
   ]
  }
 ],
 "metadata": {
  "kernelspec": {
   "display_name": "opencv_env",
   "language": "python",
   "name": "python3"
  },
  "language_info": {
   "codemirror_mode": {
    "name": "ipython",
    "version": 3
   },
   "file_extension": ".py",
   "mimetype": "text/x-python",
   "name": "python",
   "nbconvert_exporter": "python",
   "pygments_lexer": "ipython3",
   "version": "3.9.23"
  }
 },
 "nbformat": 4,
 "nbformat_minor": 5
}
